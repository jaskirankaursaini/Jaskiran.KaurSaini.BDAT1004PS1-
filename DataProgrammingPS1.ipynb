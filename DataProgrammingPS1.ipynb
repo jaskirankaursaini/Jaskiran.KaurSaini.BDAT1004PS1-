{
 "cells": [
  {
   "cell_type": "markdown",
   "id": "2e5df2fe",
   "metadata": {},
   "source": [
    "# QUESTION 1 C#"
   ]
  },
  {
   "cell_type": "markdown",
   "id": "fd659a37",
   "metadata": {},
   "source": [
    "5 -> Integer\n",
    "5.0 -> Double\n",
    "5>1 -> Boolean \n",
    "'5' -> Char\n",
    "5*2 -> Integer\n",
    "'5'*2 ->Integer\n",
    "'5'*'2' -> Integer\n",
    "5/2 -> Integer\n",
    "5%2 -> Integer\n",
    "(5,2,1)-> Integer\n",
    "5==3 ->Boolean\n",
    "Pi(the number)-> Double\n"
   ]
  },
  {
   "cell_type": "markdown",
   "id": "ca6105f5",
   "metadata": {},
   "source": [
    "# QUESTION 2 C#"
   ]
  },
  {
   "cell_type": "code",
   "execution_count": 142,
   "id": "adc90b67",
   "metadata": {},
   "outputs": [
    {
     "name": "stdout",
     "output_type": "stream",
     "text": [
      "34\r\n"
     ]
    }
   ],
   "source": [
    "// a part\n",
    "string str=\"Supercalifragilisticexpialidocious\";\n",
    "Console.WriteLine(str.Length);\n"
   ]
  },
  {
   "cell_type": "code",
   "execution_count": 143,
   "id": "562218a4",
   "metadata": {},
   "outputs": [
    {
     "name": "stdout",
     "output_type": "stream",
     "text": [
      "Supercalifragilisticexpialidocious contains ice\r\n"
     ]
    }
   ],
   "source": [
    "// b part\n",
    "string str=\"Supercalifragilisticexpialidocious\";\n",
    "string sub_str=\"ice\";\n",
    "int count=0,index;\n",
    "Boolean flag=false;\n",
    "\n",
    "while(count< str.Length-sub_str.Length)\n",
    "{\n",
    "    if(str.Substring(count,3)==sub_str)\n",
    "    {\n",
    "        flag=true;\n",
    "        index=count;\n",
    "        break;\n",
    "    }\n",
    "    count++;\n",
    "}\n",
    "\n",
    "if(flag)\n",
    "{\n",
    "Console.WriteLine(str+\" contains \"+sub_str);\n",
    "}\n",
    "else\n",
    "{\n",
    "Console.WriteLine(str+\" does not contains \"+sub_str);\n",
    "}\n",
    "\n"
   ]
  },
  {
   "cell_type": "code",
   "execution_count": 144,
   "id": "6a663dbc",
   "metadata": {},
   "outputs": [
    {
     "name": "stdout",
     "output_type": "stream",
     "text": [
      "Bababadalgharaghtakamminarronnkonn is the longest word\r\n"
     ]
    }
   ],
   "source": [
    "// c part\n",
    "string str1=\"Supercalifragilisticexpialidocious\";\n",
    "string str2=\"Honorificabilitudinitatibus\";\n",
    "string str3=\"Bababadalgharaghtakamminarronnkonn\";\n",
    "int l1=str1.Length;\n",
    "int l2=str2.Length;\n",
    "int l3=str3.Length;\n",
    "\n",
    "if(l1>l2 && l1>l3)\n",
    "{\n",
    "    Console.WriteLine(str1+\" is the longest word\");\n",
    "}\n",
    "else\n",
    "{ \n",
    "    if(l2>l1 && l2>l3)\n",
    "    {\n",
    "    Console.WriteLine(str2+\" is the longest word\");\n",
    "    }\n",
    "    else\n",
    "    {\n",
    "    Console.WriteLine(str3+\" is the longest word\");\n",
    "    }\n",
    "}\n",
    "\n"
   ]
  },
  {
   "cell_type": "code",
   "execution_count": 145,
   "id": "c3d748ca",
   "metadata": {},
   "outputs": [
    {
     "name": "stdout",
     "output_type": "stream",
     "text": [
      "First: Bartok\n",
      "Last: Buxtehude\n"
     ]
    }
   ],
   "source": [
    "// d part\n",
    "List<string> words = new List<string>();\n",
    "words.Add(\"Beriloz\");\n",
    "words.Add(\"Borodin\");\n",
    "words.Add(\"Brian\");\n",
    "words.Add(\"Bartok\");\n",
    "words.Add(\"Bellini\");\n",
    "words.Add(\"Buxtehude\");\n",
    "words.Add(\"Bernstein\");\n",
    "words.Sort();\n",
    "Console.WriteLine(\"First: \"+ words.First());\n",
    "Console.WriteLine(\"Last: \" + words.Last());\n",
    "    "
   ]
  },
  {
   "cell_type": "markdown",
   "id": "e2ec1d94",
   "metadata": {},
   "source": [
    " # QUESTION 3 C#"
   ]
  },
  {
   "cell_type": "code",
   "execution_count": 146,
   "id": "201e52ff",
   "metadata": {},
   "outputs": [],
   "source": [
    "\n",
    "public class myProg\n",
    "{\n",
    "    public void triangleArea( float a,  float b,  float c) \n",
    "    {\n",
    "    float s = (a + b + c) / 2;\n",
    "    double area = Math.Sqrt(s * (s - a) * (s - b) * (s - c));\n",
    "    Console.WriteLine(area);\n",
    "    }\n",
    "}\n"
   ]
  },
  {
   "cell_type": "code",
   "execution_count": 137,
   "id": "3032d0fd",
   "metadata": {},
   "outputs": [
    {
     "name": "stdout",
     "output_type": "stream",
     "text": [
      "1.7320508075688772\r\n"
     ]
    }
   ],
   "source": [
    "myProg prog=new myProg();\n",
    "prog.triangleArea(2,2,2);"
   ]
  },
  {
   "cell_type": "markdown",
   "id": "d6e7f942",
   "metadata": {},
   "source": [
    "# QUESTION 4 C#"
   ]
  },
  {
   "cell_type": "code",
   "execution_count": 147,
   "id": "a825b5ac",
   "metadata": {},
   "outputs": [
    {
     "name": "stdout",
     "output_type": "stream",
     "text": [
      "The Even Elements are:\n",
      "42\n",
      "56\n",
      "32\n",
      "The Odd Elements are:\n",
      "25\n",
      "47\n"
     ]
    }
   ],
   "source": [
    "//Code for taking input from user\n",
    "//Console.WriteLine(\"Input the number of elements to be stored in array:\");\n",
    "//int length = 0;\n",
    "//length =int.Parse(Console.ReadLine());\n",
    "//Console.WriteLine(\"Input \" + length +\" elements in array\");\n",
    "//int[] arr = new int[length];\n",
    "//for (int a = 0; a < length; a++)\n",
    "//{\n",
    "//    Console.WriteLine(\"Element-\" + a + \":\");\n",
    "//    arr[a] = int.Parse(Console.ReadLine());\n",
    "//}\n",
    "//As per the discussion in discussion board,setting the default values\n",
    "int length = 5;\n",
    "int[] arr = new int[length];\n",
    "arr[0]=25;\n",
    "arr[1]=47;\n",
    "arr[2]=42;\n",
    "arr[3]=56;\n",
    "arr[4]=32;\n",
    "int[] arr_odd = new int[length];\n",
    "int[] arr_even = new int[length];\n",
    "int i, j = 0, k = 0;\n",
    "for (i = 0; i < length; i++)\n",
    "{\n",
    "    if (arr[i] % 2 == 0)\n",
    "    {\n",
    "        arr_even[j] = arr[i];\n",
    "        j++;\n",
    "    }\n",
    "    else\n",
    "    {\n",
    "        arr_odd[k] = arr[i];\n",
    "        k++;\n",
    "    }\n",
    "}\n",
    "Console.WriteLine(\"The Even Elements are:\");\n",
    "for (i = 0; i < j; i++)\n",
    "{\n",
    "    Console.WriteLine(arr_even[i]);\n",
    "}\n",
    "Console.WriteLine(\"The Odd Elements are:\");\n",
    "for (i = 0; i < k; i++)\n",
    "{\n",
    "    Console.WriteLine(arr_odd[i]);\n",
    "}\n",
    " "
   ]
  },
  {
   "cell_type": "markdown",
   "id": "79c7c067",
   "metadata": {},
   "source": [
    "# QUESTION 5 C#"
   ]
  },
  {
   "cell_type": "code",
   "execution_count": 148,
   "id": "1607ad38",
   "metadata": {},
   "outputs": [],
   "source": [
    "//a part\n",
    "public class Rectangle\n",
    "{\n",
    "    public bool inside( double x, double y, double x1, double y1, double x2, double y2)\n",
    "    {\n",
    "        if (x > x1 && x < x2 && y > y1 && y < y2)\n",
    "        return true;\n",
    "        else\n",
    "        return false;\n",
    "    }\n",
    "}\n"
   ]
  },
  {
   "cell_type": "code",
   "execution_count": 149,
   "id": "ccd9e085",
   "metadata": {},
   "outputs": [
    {
     "name": "stdout",
     "output_type": "stream",
     "text": [
      "True\r\n"
     ]
    }
   ],
   "source": [
    "// a part \n",
    "Rectangle a=new Rectangle();\n",
    "bool result = a.inside(1, 1, 0, 0, 2, 3);\n",
    "Console.WriteLine(result);\n"
   ]
  },
  {
   "cell_type": "code",
   "execution_count": 150,
   "id": "b3b86023",
   "metadata": {},
   "outputs": [
    {
     "name": "stdout",
     "output_type": "stream",
     "text": [
      "False\r\n"
     ]
    }
   ],
   "source": [
    "// b part \n",
    "bool result2 = a.inside(1, 1, 0.3, 0.5, 1.1, 0.7) && a.inside(1, 1, 0.5, 0.2, 1.1, 2);\n",
    "Console.WriteLine(result2);"
   ]
  },
  {
   "cell_type": "markdown",
   "id": "eac5c872",
   "metadata": {},
   "source": [
    "# QUESTION 6 PYTHON"
   ]
  },
  {
   "cell_type": "code",
   "execution_count": 1,
   "id": "6a249d4e",
   "metadata": {},
   "outputs": [
    {
     "name": "stdout",
     "output_type": "stream",
     "text": [
      "Enter a word:happy\n",
      "appyhay\n"
     ]
    }
   ],
   "source": [
    "input_word = input('Enter a word:')\n",
    "if len(input_word) > 0 :\n",
    "    input_lower = input_word.lower()\n",
    "    first_letter = input_lower[0]\n",
    "    if first_letter in ('a', 'e' , 'i' , 'o' , 'u'):\n",
    "        pig_word = input_lower+'way'\n",
    "        print(pig_word)\n",
    "    else:\n",
    "        pig_word = input_word[1:]+first_letter+'ay'\n",
    "        print(pig_word)\n",
    "else:\n",
    "    print ('Empty')"
   ]
  },
  {
   "cell_type": "markdown",
   "id": "3e676b9b",
   "metadata": {},
   "source": [
    "# QUESTION 7 PYTHON"
   ]
  },
  {
   "cell_type": "code",
   "execution_count": 3,
   "id": "6bb48759",
   "metadata": {},
   "outputs": [
    {
     "name": "stdout",
     "output_type": "stream",
     "text": [
      "There are 15 patients of blood type A.\n",
      "There is one patient of blood type B.\n",
      "There are 13 patients of blood type AB.\n",
      "There are 15 patients of blood type O.\n",
      "There are no patients of blood type OO.\n"
     ]
    }
   ],
   "source": [
    "input_file = open('boodtype1.txt')\n",
    "blood_grp= input_file.read()\n",
    "input_file.close()\n",
    "blood_grp=blood_grp.split()\n",
    "blood_type = ['A','B','AB','O','OO']\n",
    "for i in blood_type:\n",
    "    if blood_grp.count(i)==0:\n",
    "        print('There are no patients of blood type',i+'.')\n",
    "    elif blood_grp.count(i)==1:\n",
    "        print('There is one patient of blood type',i+'.')\n",
    "    else:\n",
    "        print('There are',blood_grp.count(i),'patients of blood type', i+'.')"
   ]
  },
  {
   "cell_type": "markdown",
   "id": "437e25c4",
   "metadata": {},
   "source": [
    "# QUESTION 8 PYTHON "
   ]
  },
  {
   "cell_type": "code",
   "execution_count": 4,
   "id": "21ddbb66",
   "metadata": {},
   "outputs": [
    {
     "name": "stdout",
     "output_type": "stream",
     "text": [
      "122.96544\n",
      "1.241401\n"
     ]
    }
   ],
   "source": [
    "def curconv(cur,amt):\n",
    "    inp_file = open('currencies.txt')\n",
    "    file_list=inp_file.read().split(\"\\n\")\n",
    "    for i in file_list:\n",
    "        each_line=i.split(\"\\t\")\n",
    "        currency=each_line[0]\n",
    "        rate=each_line[1]\n",
    "        if(cur==currency):\n",
    "            conversion=amt*float(rate)\n",
    "    print(conversion)\n",
    "curconv('EUR',100)\n",
    "curconv('JPY',100)"
   ]
  },
  {
   "cell_type": "markdown",
   "id": "c7b6e99b",
   "metadata": {},
   "source": [
    "# QUESTION 9 PYTHON "
   ]
  },
  {
   "cell_type": "code",
   "execution_count": null,
   "id": "b43866a5",
   "metadata": {},
   "outputs": [],
   "source": [
    "Trying to add incompatible variables,as in adding 6 + 'a' -> TYPE ERROR\n",
    "\n",
    "Referring to the 12'^ item of a list that has only 10 items ->INDEX ERROR\n",
    "\n",
    "Using a value that is out of range for a function's input, such as calling math.sqrt( -1.0) ->VALUE ERROR\n",
    "\n",
    "Using an undeclared variable, such as print(x) when x has not been defined ->NAME ERROR\n",
    "\n",
    "Trying to open a file that does not exist, such as mistyping the file name or looking in the \n",
    "wrong directory->FILE NOT FOUND ERROR\n"
   ]
  },
  {
   "cell_type": "markdown",
   "id": "229362f6",
   "metadata": {},
   "source": [
    "# QUESTION 10 PYTHON "
   ]
  },
  {
   "cell_type": "code",
   "execution_count": 5,
   "id": "f0957596",
   "metadata": {},
   "outputs": [
    {
     "name": "stdout",
     "output_type": "stream",
     "text": [
      "[1, 1, 1, 3, 5, 1, 1, 2, 1, 0, 1, 0, 1, 2, 4, 0, 1, 2, 0, 2, 1, 0, 1, 1, 0, 0]\n",
      "[1, 0, 0, 0, 1, 0, 0, 0, 0, 0, 0, 1, 0, 0, 0, 2, 0, 0, 0, 0, 0, 0, 0, 0, 0, 0]\n"
     ]
    }
   ],
   "source": [
    "from collections import Counter \n",
    "def frequencies(myString):\n",
    "  letters = {}\n",
    "  list_freq = {}\n",
    "  letters = list(\"abcdefghijklmnopqrstuvwxyz\")\n",
    "  chars_in_str = Counter(myString)\n",
    "  for l in letters:\n",
    "    if(l in chars_in_str):\n",
    "      list_freq[l] = chars_in_str[l]\n",
    "    else: \n",
    "      list_freq[l] = 0 \n",
    "  return(list_freq)\n",
    "print(list(frequencies('The quick red fox got bored and went home.').values()))\n",
    "print(list(frequencies('apple').values()))\n"
   ]
  },
  {
   "cell_type": "code",
   "execution_count": null,
   "id": "17e48717",
   "metadata": {},
   "outputs": [],
   "source": []
  }
 ],
 "metadata": {
  "kernelspec": {
   "display_name": ".NET (C#)",
   "language": "C#",
   "name": ".net-csharp"
  },
  "language_info": {
   "file_extension": ".cs",
   "mimetype": "text/x-csharp",
   "name": "C#",
   "pygments_lexer": "csharp",
   "version": "8.0"
  }
 },
 "nbformat": 4,
 "nbformat_minor": 5
}
